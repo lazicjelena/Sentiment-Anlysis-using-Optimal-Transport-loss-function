{
  "nbformat": 4,
  "nbformat_minor": 0,
  "metadata": {
    "colab": {
      "provenance": []
    },
    "kernelspec": {
      "name": "python3",
      "display_name": "Python 3"
    },
    "language_info": {
      "name": "python"
    },
    "accelerator": "TPU",
    "gpuClass": "standard"
  },
  "cells": [
    {
      "cell_type": "code",
      "source": [
        "from google.colab import drive\n",
        "drive.mount('/content/drive')"
      ],
      "metadata": {
        "colab": {
          "base_uri": "https://localhost:8080/"
        },
        "id": "6G6k7G2GIV5k",
        "outputId": "c78f0f01-9938-4008-8973-dd85c3345ddd"
      },
      "execution_count": 1,
      "outputs": [
        {
          "output_type": "stream",
          "name": "stdout",
          "text": [
            "Mounted at /content/drive\n"
          ]
        }
      ]
    },
    {
      "cell_type": "code",
      "source": [
        "#map_dict = { \"Extremely Positive\": 0,\"Positive\": 1, \"Neutral\": 2, \"Negative\":3, \"Extremely Negative\":4} # Covid\n",
        "map_dict = { \"positive\": 0, \"neutral\": 1, \"negative\":2} # US Airlines\n",
        "#map_dict = { -1: 0, 0: 1, 1: 2} # SemEval Sentiment Analysis\n",
        "num_class = 3"
      ],
      "metadata": {
        "id": "RH3YdlxfY6fo"
      },
      "execution_count": 2,
      "outputs": []
    },
    {
      "cell_type": "code",
      "source": [
        "pip install tensorflow_addons"
      ],
      "metadata": {
        "colab": {
          "base_uri": "https://localhost:8080/"
        },
        "id": "IJEFTXDj8etr",
        "outputId": "02067b81-5380-4388-8528-7707a17f4879"
      },
      "execution_count": 3,
      "outputs": [
        {
          "output_type": "stream",
          "name": "stdout",
          "text": [
            "Looking in indexes: https://pypi.org/simple, https://us-python.pkg.dev/colab-wheels/public/simple/\n",
            "Collecting tensorflow_addons\n",
            "  Downloading tensorflow_addons-0.19.0-cp38-cp38-manylinux_2_17_x86_64.manylinux2014_x86_64.whl (1.1 MB)\n",
            "\u001b[2K     \u001b[90m━━━━━━━━━━━━━━━━━━━━━━━━━━━━━━━━━━━━━━━━\u001b[0m \u001b[32m1.1/1.1 MB\u001b[0m \u001b[31m13.3 MB/s\u001b[0m eta \u001b[36m0:00:00\u001b[0m\n",
            "\u001b[?25hRequirement already satisfied: packaging in /usr/local/lib/python3.8/dist-packages (from tensorflow_addons) (23.0)\n",
            "Requirement already satisfied: typeguard>=2.7 in /usr/local/lib/python3.8/dist-packages (from tensorflow_addons) (2.7.1)\n",
            "Installing collected packages: tensorflow_addons\n",
            "Successfully installed tensorflow_addons-0.19.0\n"
          ]
        }
      ]
    },
    {
      "cell_type": "code",
      "execution_count": 4,
      "metadata": {
        "id": "_bqxBJfERDGD"
      },
      "outputs": [],
      "source": [
        "from sklearn.metrics import confusion_matrix, classification_report\n",
        "from sklearn.model_selection import train_test_split\n",
        "from sklearn.preprocessing import OneHotEncoder\n",
        "import tensorflow_addons as tfa\n",
        "import matplotlib.pyplot as plt\n",
        "import tensorflow as tf\n",
        "import pandas as pd\n",
        "import numpy as np"
      ]
    },
    {
      "cell_type": "code",
      "source": [
        "train = pd.read_csv('/content/drive/MyDrive/train_encoded.csv', encoding='latin-1').values\n",
        "y_train = pd.read_csv('/content/drive/MyDrive/train_sentiment.csv', encoding='latin-1')['Sentiment']\n",
        "y_train = y_train.map(map_dict).values\n",
        "\n",
        "# create validation test\n",
        "train, validation, y_train, y_validation = train_test_split(train, y_train, test_size=0.2, shuffle=True, stratify = y_train)\n",
        "y_train_true = y_train\n",
        "y_validation_true = y_validation\n",
        "\n",
        "test = pd.read_csv('/content/drive/MyDrive/test_encoded.csv', encoding='latin-1').values\n",
        "y_test = pd.read_csv('/content/drive/MyDrive/test_sentiment.csv', encoding='latin-1')['Sentiment']\n",
        "y_test = y_test.map(map_dict).values\n",
        "y_test_true = y_test"
      ],
      "metadata": {
        "id": "RSjNjclUl8jt"
      },
      "execution_count": 5,
      "outputs": []
    },
    {
      "cell_type": "code",
      "source": [
        "#from sklearn.utils import resample\n",
        "#train, y_train = resample(train, y_train , n_samples=3000, replace=False, stratify=y_train, random_state=0)"
      ],
      "metadata": {
        "id": "y2qc3sS9EGm5"
      },
      "execution_count": 6,
      "outputs": []
    },
    {
      "cell_type": "code",
      "source": [
        "def y_one_hot(y):\n",
        "  onehot_encoder = OneHotEncoder(sparse=False)\n",
        "  y_onehot = y.reshape(len(y), 1)\n",
        "  y_onehot = onehot_encoder.fit_transform(y_onehot)\n",
        "  return y_onehot"
      ],
      "metadata": {
        "id": "Zs2-lsP4q7Za"
      },
      "execution_count": 7,
      "outputs": []
    },
    {
      "cell_type": "code",
      "source": [
        "y_train_onehot = y_one_hot(y_train)\n",
        "y_validation_onehot = y_one_hot(y_validation)\n",
        "y_test_onehot = y_one_hot(y_test)"
      ],
      "metadata": {
        "id": "IzMStXDYoTE1"
      },
      "execution_count": 8,
      "outputs": []
    },
    {
      "cell_type": "markdown",
      "source": [
        "**Distributed training**"
      ],
      "metadata": {
        "id": "6fUjb2wr6ZKb"
      }
    },
    {
      "cell_type": "code",
      "source": [
        "from __future__ import absolute_import, division, print_function, unicode_literals\n",
        "from tqdm import tqdm\n",
        "from tensorflow.python.ops.numpy_ops import np_config\n",
        "np_config.enable_numpy_behavior()"
      ],
      "metadata": {
        "id": "Gy4zxtnX6YPP"
      },
      "execution_count": 9,
      "outputs": []
    },
    {
      "cell_type": "code",
      "source": [
        "batch_size = 128\n",
        "\n",
        "train = tf.data.Dataset.from_tensor_slices(train).batch(batch_size=batch_size)\n",
        "test = tf.data.Dataset.from_tensor_slices(test).batch(batch_size=batch_size)\n",
        "validation = tf.data.Dataset.from_tensor_slices(validation).batch(batch_size=batch_size)\n",
        "\n",
        "y_train = tf.data.Dataset.from_tensor_slices(y_train_onehot).batch(batch_size=batch_size)\n",
        "y_test = tf.data.Dataset.from_tensor_slices(y_test_onehot).batch(batch_size=batch_size)\n",
        "y_validation = tf.data.Dataset.from_tensor_slices(y_validation_onehot).batch(batch_size=batch_size)"
      ],
      "metadata": {
        "id": "1TvZBiQm6uOp"
      },
      "execution_count": 10,
      "outputs": []
    },
    {
      "cell_type": "code",
      "source": [
        "def apply_gradient(optimizer, model, x, y):\n",
        "  with tf.GradientTape() as tape:\n",
        "    logits = model(x)\n",
        "    loss_value = loss_object(y_true=y, y_pred=logits)\n",
        "\n",
        "  gradients = tape.gradient(loss_value, model.trainable_weights)\n",
        "  optimizer.apply_gradients(zip(gradients, model.trainable_weights))\n",
        "  \n",
        "  return logits, loss_value"
      ],
      "metadata": {
        "id": "0qWtvpbc6mqu"
      },
      "execution_count": 11,
      "outputs": []
    },
    {
      "cell_type": "code",
      "source": [
        "def train_data_for_one_epoch():\n",
        "  losses = []\n",
        "  pbar = tqdm(total=len(list(enumerate(train))), position=0, leave=True, bar_format='{l_bar}{bar}| {n_fmt}/{total_fmt} ')\n",
        "  for (x,y) in zip(enumerate(train), enumerate(y_train)):\n",
        "      step, x_batch_train = x\n",
        "      _, y_batch_train = y\n",
        "      logits, loss_value = apply_gradient(optimizer, model, x_batch_train, y_batch_train)     \n",
        "      losses.append(loss_value)\n",
        "      train_acc_metric(y_batch_train, logits)\n",
        "      pbar.set_description(\"Training loss for step %s: %.4f\" % (int(step), float(loss_value)))\n",
        "      pbar.update()\n",
        "  return losses\n"
      ],
      "metadata": {
        "id": "RA5i7fXB6pEe"
      },
      "execution_count": 12,
      "outputs": []
    },
    {
      "cell_type": "code",
      "source": [
        "def define_ground_cost(n):\n",
        "    \n",
        "    M = np.zeros([n,n])\n",
        "    for i in range(M.shape[0]):\n",
        "        for j in range(M.shape[1]):\n",
        "            M[i,j] = abs(j- i)\n",
        "\n",
        "    M = tf.convert_to_tensor(M)\n",
        "    return M / tf.reduce_sum(M) \n",
        "\n",
        "define_ground_cost(num_class)"
      ],
      "metadata": {
        "id": "BcQ1WCKXJWGI",
        "colab": {
          "base_uri": "https://localhost:8080/"
        },
        "outputId": "ea80459e-7ea3-4952-dc69-3f1d93577665"
      },
      "execution_count": 14,
      "outputs": [
        {
          "output_type": "execute_result",
          "data": {
            "text/plain": [
              "<tf.Tensor: shape=(3, 3), dtype=float64, numpy=\n",
              "array([[0.   , 0.125, 0.25 ],\n",
              "       [0.125, 0.   , 0.125],\n",
              "       [0.25 , 0.125, 0.   ]])>"
            ]
          },
          "metadata": {},
          "execution_count": 14
        }
      ]
    },
    {
      "cell_type": "code",
      "source": [
        "def loss_function(y_true, y_pred):\n",
        "\n",
        "  #optimal transport\n",
        "  M = define_ground_cost(num_class)\n",
        "  M = tf.convert_to_tensor(M)\n",
        "  reverse_y_true = 1 -y_true\n",
        "  elements = tf.math.multiply_no_nan(x=y_pred, y=reverse_y_true.astype(np.float32))\n",
        "  cost = M[tf.math.argmax(y_true, axis =1)]\n",
        "  elements = tf.math.multiply_no_nan(x=elements, y = cost.astype(np.float32))\n",
        "  \n",
        "  #regularization\n",
        "  labda = 0.0001\n",
        "  regularization_elements =  tf.math.multiply_no_nan(x=y_pred, y=tf.math.log(y_pred))\n",
        "  \n",
        "  return tf.reduce_mean(tf.reduce_sum(elements,axis=1)) + labda * tf.reduce_mean(tf.reduce_sum(regularization_elements,axis=1))"
      ],
      "metadata": {
        "id": "M0-G9c14VRAN"
      },
      "execution_count": 44,
      "outputs": []
    },
    {
      "cell_type": "code",
      "source": [
        "vocab_size = 10000\n",
        "max_length = 39\n",
        "embedding_dim = 100\n",
        "oov_tok = \"<OOV>\"\n",
        "\n",
        "#lr_schedule = tf.keras.optimizers.schedules.ExponentialDecay(initial_learning_rate=1e-3, decay_steps=1000000, decay_rate=0.9)\n",
        "#clr = tfa.optimizers.CyclicalLearningRate(initial_learning_rate=0.0001, maximal_learning_rate=0.01,\n",
        "#    scale_fn=lambda x: 1/(2.**(x-1)), step_size=2 * 100)\n",
        "optimizer = tf.keras.optimizers.Adam(learning_rate = 1e-3)\n",
        "train_acc_metric = tf.keras.metrics.CategoricalAccuracy()\n",
        "\n",
        "#loss_object = tf.keras.losses.CategoricalCrossentropy()\n",
        "loss_object = loss_function\n",
        "\n",
        "def build_model():\n",
        "\n",
        "    model = tf.keras.Sequential([\n",
        "        tf.keras.layers.Embedding(vocab_size, embedding_dim, input_length=max_length),\n",
        "        tf.keras.layers.GlobalAveragePooling1D(),\n",
        "        tf.keras.layers.Dense(512, activation='relu'),\n",
        "        tf.keras.layers.Dense(num_class, activation='softmax')\n",
        "    ])\n",
        "    model.compile(optimizer, loss=loss_object, metrics= train_acc_metric)\n",
        "    \n",
        "    return model\n",
        "\n",
        "model = build_model()"
      ],
      "metadata": {
        "id": "Nc06TIHP6h44"
      },
      "execution_count": 49,
      "outputs": []
    },
    {
      "cell_type": "code",
      "source": [
        "model.summary()"
      ],
      "metadata": {
        "colab": {
          "base_uri": "https://localhost:8080/"
        },
        "id": "uL012ooGOljm",
        "outputId": "eb3ce8bf-986a-403e-89c9-1a6a44609ce3"
      },
      "execution_count": 50,
      "outputs": [
        {
          "output_type": "stream",
          "name": "stdout",
          "text": [
            "Model: \"sequential_6\"\n",
            "_________________________________________________________________\n",
            " Layer (type)                Output Shape              Param #   \n",
            "=================================================================\n",
            " embedding_6 (Embedding)     (None, 39, 100)           1000000   \n",
            "                                                                 \n",
            " global_average_pooling1d_6   (None, 100)              0         \n",
            " (GlobalAveragePooling1D)                                        \n",
            "                                                                 \n",
            " dense_12 (Dense)            (None, 512)               51712     \n",
            "                                                                 \n",
            " dense_13 (Dense)            (None, 3)                 1539      \n",
            "                                                                 \n",
            "=================================================================\n",
            "Total params: 1,053,251\n",
            "Trainable params: 1,053,251\n",
            "Non-trainable params: 0\n",
            "_________________________________________________________________\n"
          ]
        }
      ]
    },
    {
      "cell_type": "code",
      "source": [
        "# Iterate over epochs.\n",
        "epochs = 5\n",
        "epochs_val_acc, epochs_train_acc = [], []\n",
        "epochs_val_losses, epochs_train_losses = [], []\n",
        "for epoch in range(epochs):\n",
        "  print('Start of epoch %d' % (epoch+1,))\n",
        "  \n",
        "  losses_train = train_data_for_one_epoch()\n",
        "  train_acc = train_acc_metric.result()\n",
        "\n",
        "  losses_train_mean = np.mean(losses_train)\n",
        "  epochs_train_losses.append(losses_train_mean)\n",
        "\n",
        "  print('Epoch %s: Train loss: %.4f, Train Accuracy: %.4f' % (epoch+1, float(losses_train_mean), float(train_acc)*100))\n",
        "  \n",
        "  epochs_train_acc.append(float(train_acc)*100)\n",
        "  y_pred_val = np.argmax(model.predict(validation),axis=1)\n",
        "  val_acc = (y_validation_true == y_pred_val).sum() / len(y_validation_true)\n",
        "  epochs_val_acc.append(float(val_acc)*100)\n",
        "\n",
        "  print('Validation Accuracy: %.4f \\n' % (float(val_acc)*100))\n",
        "\n",
        "  train_acc_metric.reset_states()"
      ],
      "metadata": {
        "id": "w0EdNbnQ6uwk",
        "colab": {
          "base_uri": "https://localhost:8080/"
        },
        "outputId": "ab567cc2-79f0-4322-aeb2-32f95f7314e1"
      },
      "execution_count": 54,
      "outputs": [
        {
          "output_type": "stream",
          "name": "stdout",
          "text": [
            "Start of epoch 1\n"
          ]
        },
        {
          "output_type": "stream",
          "name": "stderr",
          "text": [
            "Training loss for step 73: 0.0547: 100%|██████████| 74/74 "
          ]
        },
        {
          "output_type": "stream",
          "name": "stdout",
          "text": [
            "Epoch 1: Train loss: 0.0664, Train Accuracy: 62.8098\n",
            "19/19 [==============================] - 0s 4ms/step\n"
          ]
        },
        {
          "output_type": "stream",
          "name": "stderr",
          "text": [
            "\n"
          ]
        },
        {
          "output_type": "stream",
          "name": "stdout",
          "text": [
            "Validation Accuracy: 62.7082 \n",
            "\n",
            "Start of epoch 2\n"
          ]
        },
        {
          "output_type": "stream",
          "name": "stderr",
          "text": [
            "Training loss for step 69: 0.0403:  95%|█████████▍| 70/74 \n",
            "Training loss for step 73: 0.0547: 100%|██████████| 74/74 "
          ]
        },
        {
          "output_type": "stream",
          "name": "stdout",
          "text": [
            "Epoch 2: Train loss: 0.0663, Train Accuracy: 62.8419\n",
            "19/19 [==============================] - 0s 7ms/step\n"
          ]
        },
        {
          "output_type": "stream",
          "name": "stderr",
          "text": [
            "\n"
          ]
        },
        {
          "output_type": "stream",
          "name": "stdout",
          "text": [
            "Validation Accuracy: 62.7510 \n",
            "\n",
            "Start of epoch 3\n"
          ]
        },
        {
          "output_type": "stream",
          "name": "stderr",
          "text": [
            "Training loss for step 73: 0.0555: 100%|██████████| 74/74 "
          ]
        },
        {
          "output_type": "stream",
          "name": "stdout",
          "text": [
            "Epoch 3: Train loss: 0.0661, Train Accuracy: 62.9274\n",
            "19/19 [==============================] - 0s 4ms/step\n"
          ]
        },
        {
          "output_type": "stream",
          "name": "stderr",
          "text": [
            "\n"
          ]
        },
        {
          "output_type": "stream",
          "name": "stdout",
          "text": [
            "Validation Accuracy: 62.7937 \n",
            "\n",
            "Start of epoch 4\n"
          ]
        },
        {
          "output_type": "stream",
          "name": "stderr",
          "text": [
            "Training loss for step 73: 0.0528: 100%|██████████| 74/74 "
          ]
        },
        {
          "output_type": "stream",
          "name": "stdout",
          "text": [
            "Epoch 4: Train loss: 0.0526, Train Accuracy: 66.8483\n",
            "19/19 [==============================] - 0s 5ms/step\n"
          ]
        },
        {
          "output_type": "stream",
          "name": "stderr",
          "text": [
            "\n"
          ]
        },
        {
          "output_type": "stream",
          "name": "stdout",
          "text": [
            "Validation Accuracy: 68.4750 \n",
            "\n",
            "Start of epoch 5\n"
          ]
        },
        {
          "output_type": "stream",
          "name": "stderr",
          "text": [
            "Training loss for step 73: 0.0328: 100%|██████████| 74/74 "
          ]
        },
        {
          "output_type": "stream",
          "name": "stdout",
          "text": [
            "Epoch 5: Train loss: 0.0370, Train Accuracy: 74.7009\n",
            "19/19 [==============================] - 0s 5ms/step\n",
            "Validation Accuracy: 75.5233 \n",
            "\n"
          ]
        },
        {
          "output_type": "stream",
          "name": "stderr",
          "text": [
            "\n"
          ]
        }
      ]
    },
    {
      "cell_type": "code",
      "source": [
        "model.predict(test)"
      ],
      "metadata": {
        "id": "Uythm2fnoenR",
        "colab": {
          "base_uri": "https://localhost:8080/"
        },
        "outputId": "0935c972-6e25-484b-986c-a70eddbd3bbc"
      },
      "execution_count": 55,
      "outputs": [
        {
          "output_type": "stream",
          "name": "stdout",
          "text": [
            "23/23 [==============================] - 0s 4ms/step\n"
          ]
        },
        {
          "output_type": "execute_result",
          "data": {
            "text/plain": [
              "array([[2.2607321e-05, 3.4929824e-03, 9.9648446e-01],\n",
              "       [5.4340249e-01, 4.5609549e-01, 5.0202163e-04],\n",
              "       [5.8261955e-01, 4.1717991e-01, 2.0048300e-04],\n",
              "       ...,\n",
              "       [1.7687557e-02, 7.6123184e-01, 2.2108065e-01],\n",
              "       [2.3812839e-07, 5.0158535e-05, 9.9994951e-01],\n",
              "       [3.9826944e-08, 1.4386797e-05, 9.9998558e-01]], dtype=float32)"
            ]
          },
          "metadata": {},
          "execution_count": 55
        }
      ]
    },
    {
      "cell_type": "code",
      "source": [
        "# prediction\n",
        "y_pred_test = model.predict(test)\n",
        "y_pred_test = np.argmax(y_pred_test,axis=1) \n",
        "\n",
        "#for i in range(0,len(y_test_true)):\n",
        "#  if y_test_true[i] == 0:\n",
        "#    y_test_true[i] = 1\n",
        "#  if y_test_true[i] == 4:\n",
        "#    y_test_true[i] = 3\n",
        "\n",
        "m = confusion_matrix(y_test_true,y_pred_test)\n",
        "print('Tacnost na test podacima: ')\n",
        "print(sum(m[i][i] for i in range(len(m))) / sum(sum(m))*100)\n",
        "print('Konfuziona matrica na test podacima: ')\n",
        "print(m)"
      ],
      "metadata": {
        "id": "H43r7ObYnC8l",
        "colab": {
          "base_uri": "https://localhost:8080/"
        },
        "outputId": "e025d7cf-6b05-4ff0-f27e-b03d89bc8715"
      },
      "execution_count": 56,
      "outputs": [
        {
          "output_type": "stream",
          "name": "stdout",
          "text": [
            "23/23 [==============================] - 0s 4ms/step\n",
            "Tacnost na test podacima: \n",
            "73.87880862718247\n",
            "Konfuziona matrica na test podacima: \n",
            "[[ 241  162   69]\n",
            " [  64  312  241]\n",
            " [  13  214 1605]]\n"
          ]
        }
      ]
    },
    {
      "cell_type": "code",
      "source": [
        "plt.plot(epochs_train_acc)\n",
        "plt.plot(epochs_val_acc)\n",
        "plt.grid()\n",
        "plt.xlabel('epoch')\n",
        "plt.ylabel('accuracy')\n",
        "plt.legend(['train', 'validation'])\n",
        "plt.title('Accuracu')"
      ],
      "metadata": {
        "id": "fb3ggjfmFNut",
        "colab": {
          "base_uri": "https://localhost:8080/",
          "height": 312
        },
        "outputId": "8c05fb24-642d-44d2-f1d0-155184a0fdff"
      },
      "execution_count": 42,
      "outputs": [
        {
          "output_type": "execute_result",
          "data": {
            "text/plain": [
              "Text(0.5, 1.0, 'Accuracu')"
            ]
          },
          "metadata": {},
          "execution_count": 42
        },
        {
          "output_type": "display_data",
          "data": {
            "text/plain": [
              "<Figure size 432x288 with 1 Axes>"
            ],
            "image/png": "[encoded data removed]"
          },
          "metadata": {
            "needs_background": "light"
          }
        }
      ]
    },
    {
      "cell_type": "code",
      "source": [
        "print(classification_report(y_test_true,y_pred_test))"
      ],
      "metadata": {
        "id": "NYMRqat_DkMD",
        "colab": {
          "base_uri": "https://localhost:8080/"
        },
        "outputId": "28b184fb-52ea-44a5-b97b-6c15982323f6"
      },
      "execution_count": 58,
      "outputs": [
        {
          "output_type": "stream",
          "name": "stdout",
          "text": [
            "              precision    recall  f1-score   support\n",
            "\n",
            "           0       0.76      0.51      0.61       472\n",
            "           1       0.45      0.51      0.48       617\n",
            "           2       0.84      0.88      0.86      1832\n",
            "\n",
            "    accuracy                           0.74      2921\n",
            "   macro avg       0.68      0.63      0.65      2921\n",
            "weighted avg       0.74      0.74      0.74      2921\n",
            "\n"
          ]
        }
      ]
    }
  ]
}